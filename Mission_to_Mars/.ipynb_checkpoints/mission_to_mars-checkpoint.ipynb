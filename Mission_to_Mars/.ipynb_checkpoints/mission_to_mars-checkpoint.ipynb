{
 "cells": [
  {
   "cell_type": "markdown",
   "metadata": {},
   "source": [
    "## Mission to Mars"
   ]
  },
  {
   "cell_type": "code",
   "execution_count": 2,
   "metadata": {},
   "outputs": [],
   "source": [
    "\n",
    "# Dependencies\n",
    "from bs4 import BeautifulSoup\n",
    "import requests\n",
    "import pymongo\n",
    "from splinter import Browser\n",
    "from webdriver_manager.chrome import ChromeDriverManager\n",
    "import pandas as pd"
   ]
  },
  {
   "cell_type": "markdown",
   "metadata": {},
   "source": [
    "### Mars News"
   ]
  },
  {
   "cell_type": "code",
   "execution_count": 4,
   "metadata": {},
   "outputs": [],
   "source": [
    "#site navigation\n",
    "executable_path = {'executable_path': '/Users/andrewfisher/.wdm/drivers/chromedriver/mac64/89.0.4389.23/chromedriver'}\n",
    "browser = Browser(\"chrome\", **executable_path, headless=False)\n",
    "# path for chrome driver\n",
    "#/Users/andrewfisher/.wdm/drivers/chromedriver/mac64/89.0.4389.23\n",
    "#/Users/andrewfisher/.wdm/drivers/chromedriver/mac64/89.0.4389.23/chromedriver"
   ]
  },
  {
   "cell_type": "code",
   "execution_count": 4,
   "metadata": {},
   "outputs": [
    {
     "name": "stderr",
     "output_type": "stream",
     "text": [
      "[WDM] - ====== WebDriver manager ======\n",
      "[WDM] - Current google-chrome version is 89.0.4389\n",
      "[WDM] - Get LATEST driver version for 89.0.4389\n"
     ]
    },
    {
     "name": "stdout",
     "output_type": "stream",
     "text": [
      "\n",
      "\n"
     ]
    },
    {
     "name": "stderr",
     "output_type": "stream",
     "text": [
      "[WDM] - Driver [/Users/andrewfisher/.wdm/drivers/chromedriver/mac64/89.0.4389.23/chromedriver] found in cache\n"
     ]
    },
    {
     "name": "stdout",
     "output_type": "stream",
     "text": [
      "/Users/andrewfisher/.wdm/drivers/chromedriver/mac64/89.0.4389.23/chromedriver\n"
     ]
    }
   ],
   "source": [
    "print(ChromeDriverManager().install())"
   ]
  },
  {
   "cell_type": "code",
   "execution_count": null,
   "metadata": {},
   "outputs": [],
   "source": [
    "# URL of page to be scraped\n",
    "url = 'https://mars.nasa.gov/news/?page=0&per_page=40&order=publish_date+desc%2Ccreated_at+desc&search=&category=19%2C165%2C184%2C204&blank_scope=Latest'\n",
    "\n",
    "# visit URL\n",
    "browser.visit(url)\n",
    "\n",
    "#response ...do I need this??\n",
    "#response = requests.get(url)\n",
    "# Create BeautifulSoup object; parse with 'html.parser'\n",
    "#soup = BeautifulSoup(response.text, 'html.parser')"
   ]
  },
  {
   "cell_type": "code",
   "execution_count": 15,
   "metadata": {},
   "outputs": [],
   "source": [
    "#HTML object\n",
    "html = browser.html\n",
    "\n",
    "#parse HTML with BS\n",
    "soup= BeautifulSoup(html, \"html.parser\")"
   ]
  },
  {
   "cell_type": "code",
   "execution_count": 22,
   "metadata": {},
   "outputs": [
    {
     "name": "stdout",
     "output_type": "stream",
     "text": [
      "----------------------------------------\n",
      " News Title: New Study Challenges Long-Held Theory of Fate of Mars' Water\n",
      " News Text: The new science results indicate that a large quantity of the Red Planet’s water is trapped in its crust rather than having escaped into space.\n"
     ]
    }
   ],
   "source": [
    "# Retrieve the parent tags for all articles\n",
    "results = soup.find_all('article')\n",
    "\n",
    "# loop over results to get article data\n",
    "for article in results:\n",
    "    \n",
    "    # scrape the article title \n",
    "    title = result.find('div', class_='content_title').text\n",
    "    \n",
    "    # scrape the article text\n",
    "    teaser_text = result.find('div', class_='article_teaser_body').text\n",
    "    \n",
    "    # print article data\n",
    "    print('----------------------------------------')\n",
    "    print(f\" News Title: {title}\")\n",
    "    print(f\" News Text: {teaser_text}\")\n",
    "\n"
   ]
  },
  {
   "cell_type": "markdown",
   "metadata": {},
   "source": [
    "### Mars Featured Image"
   ]
  },
  {
   "cell_type": "code",
   "execution_count": 26,
   "metadata": {},
   "outputs": [],
   "source": [
    "#URL of image page\n",
    "image_url ='https://data-class-jpl-space.s3.amazonaws.com/JPL_Space/index.html'\n",
    "\n",
    "#visit URL\n",
    "browser.visit(image_url)\n"
   ]
  },
  {
   "cell_type": "code",
   "execution_count": 27,
   "metadata": {},
   "outputs": [],
   "source": [
    "#HTML Object\n",
    "html_image = browser.html\n",
    "\n",
    "#Parse HTML with BS\n",
    "soup = BeautifulSoup(html_image, 'html.parser')\n"
   ]
  },
  {
   "cell_type": "code",
   "execution_count": 28,
   "metadata": {},
   "outputs": [
    {
     "name": "stdout",
     "output_type": "stream",
     "text": [
      "https://data-class-jpl-space.s3.amazonaws.com/JPL_Space/image/featured/mars1.jpg\n"
     ]
    }
   ],
   "source": [
    "#Retrieve parent tag for all images\n",
    "image_url = soup.find('img', class_='headerimage')['src']\n",
    "\n",
    "#add image_url to link from HW assignment to get jpg img and featured_image_url\n",
    "featured_image_url = \"https://data-class-jpl-space.s3.amazonaws.com/JPL_Space/\" + image_url\n",
    "\n",
    "print(featured_image_url)\n"
   ]
  },
  {
   "cell_type": "markdown",
   "metadata": {},
   "source": [
    "### Mars Facts"
   ]
  },
  {
   "cell_type": "code",
   "execution_count": 29,
   "metadata": {},
   "outputs": [],
   "source": [
    "#URL of facts\n",
    "facts_url = 'https://space-facts.com/mars/'\n",
    "\n",
    "#visit URL\n",
    "browser.visit(facts_url)"
   ]
  },
  {
   "cell_type": "code",
   "execution_count": 34,
   "metadata": {},
   "outputs": [
    {
     "name": "stdout",
     "output_type": "stream",
     "text": [
      "<table border=\"1\" class=\"dataframe\">\n",
      "  <tbody>\n",
      "    <tr>\n",
      "      <td>Equatorial Diameter:</td>\n",
      "      <td>6,792 km</td>\n",
      "    </tr>\n",
      "    <tr>\n",
      "      <td>Polar Diameter:</td>\n",
      "      <td>6,752 km</td>\n",
      "    </tr>\n",
      "    <tr>\n",
      "      <td>Mass:</td>\n",
      "      <td>6.39 × 10^23 kg (0.11 Earths)</td>\n",
      "    </tr>\n",
      "    <tr>\n",
      "      <td>Moons:</td>\n",
      "      <td>2 (Phobos &amp; Deimos)</td>\n",
      "    </tr>\n",
      "    <tr>\n",
      "      <td>Orbit Distance:</td>\n",
      "      <td>227,943,824 km (1.38 AU)</td>\n",
      "    </tr>\n",
      "    <tr>\n",
      "      <td>Orbit Period:</td>\n",
      "      <td>687 days (1.9 years)</td>\n",
      "    </tr>\n",
      "    <tr>\n",
      "      <td>Surface Temperature:</td>\n",
      "      <td>-87 to -5 °C</td>\n",
      "    </tr>\n",
      "    <tr>\n",
      "      <td>First Record:</td>\n",
      "      <td>2nd millennium BC</td>\n",
      "    </tr>\n",
      "    <tr>\n",
      "      <td>Recorded By:</td>\n",
      "      <td>Egyptian astronomers</td>\n",
      "    </tr>\n",
      "  </tbody>\n",
      "</table>\n"
     ]
    }
   ],
   "source": [
    "#pandas read_html\n",
    "mars_data = pd.read_html(facts_url)\n",
    "\n",
    "#convert to DataFrame so we can see the data clearly\n",
    "mars_data= pd.DataFrame(mars_data[0])\n",
    "mars_data\n",
    "\n",
    "#use \"to_html\" to make into HTML\n",
    "mars_facts = mars_data.to_html(header=False, index = False)\n",
    "print(mars_facts)"
   ]
  },
  {
   "cell_type": "markdown",
   "metadata": {},
   "source": [
    "### Mars Hemispheres"
   ]
  },
  {
   "cell_type": "code",
   "execution_count": 46,
   "metadata": {},
   "outputs": [],
   "source": [
    "#URL of image page\n",
    "hemisphere_url ='https://astrogeology.usgs.gov/search/results?q=hemisphere+enhanced&k1=target&v1=Mars'\n",
    "\n",
    "#visit URL\n",
    "browser.visit(hemisphere_url)\n",
    "\n",
    "#HTML Object\n",
    "html_hemisphere = browser.html\n",
    "\n",
    "#Parse HTML with BS\n",
    "soup = BeautifulSoup(html_hemisphere, 'html.parser')\n",
    "\n",
    "#mars hemisphere empty list to contain all images\n",
    "mars_hem = []"
   ]
  },
  {
   "cell_type": "code",
   "execution_count": 48,
   "metadata": {},
   "outputs": [],
   "source": [
    "#set up variables\n",
    "products = soup.find('div', class_='result-list')\n",
    "hemispheres = products.find_all('div', class_='item')\n",
    "\n",
    "#for loop so it runs through all hems and allows us to define more variables\n",
    "for hemisphere in hemispheres:\n",
    "    title = hemisphere.find('h3').text\n",
    "    #get rid of \"enhanced in each title\"\n",
    "    title = title.replace(\"Enhanced\", \"\")\n",
    "    hem_link = hemisphere.find('a')['href']\n",
    "    image_link = 'https://astrogeology.usgs.gov/' + hem_link\n",
    "    \n",
    "    #go into this link using browser\n",
    "    browser.visit(image_link)\n",
    "    hem_html = browser.html\n",
    "    soup=BeautifulSoup(hem_html, \"html.parser\")\n",
    "    #now that we're on the page we want, let's find the sample link\n",
    "    sample_img = soup.find('div', class_='downloads')\n",
    "    sample_img_url = sample_img.find('a')['href']\n",
    "    \n",
    "    #create dictionary with the above and append it to empty list mars_hem\n",
    "    mars_hem.append({'Title': title, 'Image URL': sample_img_url})\n",
    "\n",
    "\n"
   ]
  },
  {
   "cell_type": "code",
   "execution_count": null,
   "metadata": {},
   "outputs": [],
   "source": [
    "mars_hem"
   ]
  }
 ],
 "metadata": {
  "kernelspec": {
   "display_name": "Python 3",
   "language": "python",
   "name": "python3"
  },
  "language_info": {
   "codemirror_mode": {
    "name": "ipython",
    "version": 3
   },
   "file_extension": ".py",
   "mimetype": "text/x-python",
   "name": "python",
   "nbconvert_exporter": "python",
   "pygments_lexer": "ipython3",
   "version": "3.6.12"
  }
 },
 "nbformat": 4,
 "nbformat_minor": 4
}
